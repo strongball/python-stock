{
 "cells": [
  {
   "cell_type": "markdown",
   "metadata": {},
   "source": [
    "# 使用QQQ模擬TQQQ的獲利"
   ]
  },
  {
   "cell_type": "code",
   "execution_count": 1,
   "metadata": {},
   "outputs": [],
   "source": [
    "import pandas as pd\n",
    "df = pd.read_csv('./QQQ.csv')"
   ]
  },
  {
   "cell_type": "code",
   "execution_count": 2,
   "metadata": {},
   "outputs": [
    {
     "data": {
      "text/html": [
       "<div>\n",
       "<style scoped>\n",
       "    .dataframe tbody tr th:only-of-type {\n",
       "        vertical-align: middle;\n",
       "    }\n",
       "\n",
       "    .dataframe tbody tr th {\n",
       "        vertical-align: top;\n",
       "    }\n",
       "\n",
       "    .dataframe thead th {\n",
       "        text-align: right;\n",
       "    }\n",
       "</style>\n",
       "<table border=\"1\" class=\"dataframe\">\n",
       "  <thead>\n",
       "    <tr style=\"text-align: right;\">\n",
       "      <th></th>\n",
       "      <th>Date</th>\n",
       "      <th>Open</th>\n",
       "      <th>High</th>\n",
       "      <th>Low</th>\n",
       "      <th>Close</th>\n",
       "      <th>Adj Close</th>\n",
       "      <th>Volume</th>\n",
       "      <th>changeRate</th>\n",
       "      <th>TQQQ</th>\n",
       "    </tr>\n",
       "  </thead>\n",
       "  <tbody>\n",
       "    <tr>\n",
       "      <th>0</th>\n",
       "      <td>2000-03-27</td>\n",
       "      <td>118.000000</td>\n",
       "      <td>119.5000</td>\n",
       "      <td>117.125</td>\n",
       "      <td>117.75</td>\n",
       "      <td>102.355965</td>\n",
       "      <td>11752600</td>\n",
       "      <td>NaN</td>\n",
       "      <td>NaN</td>\n",
       "    </tr>\n",
       "    <tr>\n",
       "      <th>1</th>\n",
       "      <td>2000-03-28</td>\n",
       "      <td>116.984375</td>\n",
       "      <td>117.8125</td>\n",
       "      <td>113.125</td>\n",
       "      <td>114.75</td>\n",
       "      <td>99.748192</td>\n",
       "      <td>18336300</td>\n",
       "      <td>-0.025478</td>\n",
       "      <td>-0.076433</td>\n",
       "    </tr>\n",
       "    <tr>\n",
       "      <th>2</th>\n",
       "      <td>2000-03-29</td>\n",
       "      <td>115.375000</td>\n",
       "      <td>115.4375</td>\n",
       "      <td>110.000</td>\n",
       "      <td>110.00</td>\n",
       "      <td>95.619179</td>\n",
       "      <td>27189500</td>\n",
       "      <td>-0.041394</td>\n",
       "      <td>-0.124183</td>\n",
       "    </tr>\n",
       "    <tr>\n",
       "      <th>3</th>\n",
       "      <td>2000-03-30</td>\n",
       "      <td>107.250000</td>\n",
       "      <td>112.7500</td>\n",
       "      <td>103.500</td>\n",
       "      <td>107.25</td>\n",
       "      <td>93.228668</td>\n",
       "      <td>42328700</td>\n",
       "      <td>-0.025000</td>\n",
       "      <td>-0.075000</td>\n",
       "    </tr>\n",
       "    <tr>\n",
       "      <th>4</th>\n",
       "      <td>2000-03-31</td>\n",
       "      <td>108.140625</td>\n",
       "      <td>110.6250</td>\n",
       "      <td>104.000</td>\n",
       "      <td>109.50</td>\n",
       "      <td>95.184540</td>\n",
       "      <td>31349900</td>\n",
       "      <td>0.020979</td>\n",
       "      <td>0.062937</td>\n",
       "    </tr>\n",
       "  </tbody>\n",
       "</table>\n",
       "</div>"
      ],
      "text/plain": [
       "         Date        Open      High      Low   Close   Adj Close    Volume  \\\n",
       "0  2000-03-27  118.000000  119.5000  117.125  117.75  102.355965  11752600   \n",
       "1  2000-03-28  116.984375  117.8125  113.125  114.75   99.748192  18336300   \n",
       "2  2000-03-29  115.375000  115.4375  110.000  110.00   95.619179  27189500   \n",
       "3  2000-03-30  107.250000  112.7500  103.500  107.25   93.228668  42328700   \n",
       "4  2000-03-31  108.140625  110.6250  104.000  109.50   95.184540  31349900   \n",
       "\n",
       "   changeRate      TQQQ  \n",
       "0         NaN       NaN  \n",
       "1   -0.025478 -0.076433  \n",
       "2   -0.041394 -0.124183  \n",
       "3   -0.025000 -0.075000  \n",
       "4    0.020979  0.062937  "
      ]
     },
     "execution_count": 2,
     "metadata": {},
     "output_type": "execute_result"
    }
   ],
   "source": [
    "df['changeRate'] = (df['Close'] - df['Close'].shift()) / df['Close'].shift()\n",
    "df['TQQQ'] = df['changeRate'] * 3\n",
    "df[:5]"
   ]
  },
  {
   "cell_type": "markdown",
   "metadata": {},
   "source": [
    "### TQQQ 從2000年開始\n",
    "初始資金為`1`,每年增加 `1/2`"
   ]
  },
  {
   "cell_type": "code",
   "execution_count": 3,
   "metadata": {
    "tags": []
   },
   "outputs": [],
   "source": [
    "initCash = 1\n",
    "cash = initCash\n",
    "crr = [initCash]\n",
    "addYear = 2000\n",
    "for index, data in df[1:].iterrows():\n",
    "    if data['Date'].startswith(str(addYear)):\n",
    "        addYear+=1\n",
    "        cash += initCash / 2\n",
    "    rate = data['TQQQ']\n",
    "    cash *= (rate+1)\n",
    "    crr.append(cash)\n",
    "df['Cash'] = crr"
   ]
  },
  {
   "cell_type": "code",
   "execution_count": 4,
   "metadata": {},
   "outputs": [
    {
     "name": "stdout",
     "output_type": "stream",
     "text": [
      "count    5313.000000\n",
      "mean       51.874022\n",
      "std       102.951998\n",
      "min         0.031936\n",
      "25%         2.182967\n",
      "50%         6.646764\n",
      "75%        47.544492\n",
      "max       636.864962\n",
      "Name: Cash, dtype: float64\n"
     ]
    },
    {
     "data": {
      "text/plain": [
       "<matplotlib.axes._subplots.AxesSubplot at 0x7f7fbc40d8d0>"
      ]
     },
     "execution_count": 4,
     "metadata": {},
     "output_type": "execute_result"
    },
    {
     "data": {
      "image/png": "[encoded data removed]",
      "text/plain": [
       "<Figure size 432x288 with 1 Axes>"
      ]
     },
     "metadata": {
      "needs_background": "light"
     },
     "output_type": "display_data"
    }
   ],
   "source": [
    "print(df['Cash'].describe())\n",
    "df['Cash'].plot()"
   ]
  },
  {
   "cell_type": "code",
   "execution_count": null,
   "metadata": {},
   "outputs": [],
   "source": []
  }
 ],
 "metadata": {
  "interpreter": {
   "hash": "aee8b7b246df8f9039afb4144a1f6fd8d2ca17a180786b69acc140d282b71a49"
  },
  "kernelspec": {
   "display_name": "Python 3.7.6 64-bit ('base': conda)",
   "language": "python",
   "name": "python3"
  },
  "language_info": {
   "codemirror_mode": {
    "name": "ipython",
    "version": 3
   },
   "file_extension": ".py",
   "mimetype": "text/x-python",
   "name": "python",
   "nbconvert_exporter": "python",
   "pygments_lexer": "ipython3",
   "version": "3.7.6"
  },
  "orig_nbformat": 2
 },
 "nbformat": 4,
 "nbformat_minor": 2
}
