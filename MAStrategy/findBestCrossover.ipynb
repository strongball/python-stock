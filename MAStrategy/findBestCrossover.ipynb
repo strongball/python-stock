{
 "cells": [
  {
   "cell_type": "code",
   "execution_count": 1,
   "metadata": {},
   "outputs": [],
   "source": [
    "import backtrader as bt\n",
    "import backtrader.feeds as feeds\n",
    "import yfinance as yf\n",
    "import pandas as pd\n",
    "from MAcrossover import MAcrossover"
   ]
  },
  {
   "cell_type": "code",
   "execution_count": 8,
   "metadata": {},
   "outputs": [],
   "source": [
    "def strategy(statDate: str, endDate:str, pfast=[3, 5, 7], pslow=[10, 15, 20, 30, 50]):\n",
    "    # 從Yahoo Finance取得資料\n",
    "    data = feeds.PandasData(dataname=yf.download('QQQ', statDate, endDate, auto_adjust=True))\n",
    "    # 初始化cerebro\n",
    "    cerebro = bt.Cerebro(optreturn=False)\n",
    "    # feed data\n",
    "    cerebro.adddata(data)\n",
    "\n",
    "    cerebro.addanalyzer(bt.analyzers.SharpeRatio, _name='sharpe_ratio')\n",
    "    cerebro.optstrategy(MAcrossover, pfast=pfast, pslow=pslow)\n",
    "\n",
    "    optimized_runs = cerebro.run()\n",
    "    final_results_list = []\n",
    "    for run in optimized_runs:\n",
    "        for strategy in run:\n",
    "            value = round(strategy.broker.get_value() / 10000, 2)\n",
    "            sharpe = strategy.analyzers.sharpe_ratio.get_analysis()\n",
    "            final_results_list.append({\n",
    "                \"pfast\": strategy.params.pfast,\n",
    "                \"pslow\": strategy.params.pslow,\n",
    "                \"value\": value,\n",
    "                \"sharperatio\": sharpe[\"sharperatio\"]\n",
    "            })\n",
    "    return pd.DataFrame(final_results_list)"
   ]
  },
  {
   "cell_type": "code",
   "execution_count": 9,
   "metadata": {},
   "outputs": [],
   "source": [
    "%matplotlib inline\n",
    "import matplotlib.pyplot as plt\n",
    "def heatmap(data: pd.DataFrame):\n",
    "    graph = {}\n",
    "    for pfast in data['pfast'].unique():\n",
    "        for pslow in data['pslow'].unique():\n",
    "            if pslow not in graph.keys():\n",
    "                graph[pslow] = {}\n",
    "            graph[pslow][pfast] = data[(data['pfast']==pfast) & (data['pslow']==pslow)]['value'].values[0]\n",
    "    return pd.DataFrame(graph).style.background_gradient(cmap ='viridis')"
   ]
  },
  {
   "cell_type": "code",
   "execution_count": 10,
   "metadata": {},
   "outputs": [
    {
     "name": "stdout",
     "output_type": "stream",
     "text": [
      "[*********************100%***********************]  1 of 1 completed\n"
     ]
    },
    {
     "data": {
      "text/html": [
       "<style  type=\"text/css\" >\n",
       "    #T_46539230_be5b_11ec_8b0a_acde48001122row0_col0 {\n",
       "            background-color:  #fde725;\n",
       "            color:  #000000;\n",
       "        }    #T_46539230_be5b_11ec_8b0a_acde48001122row0_col1 {\n",
       "            background-color:  #fde725;\n",
       "            color:  #000000;\n",
       "        }    #T_46539230_be5b_11ec_8b0a_acde48001122row0_col2 {\n",
       "            background-color:  #481b6d;\n",
       "            color:  #f1f1f1;\n",
       "        }    #T_46539230_be5b_11ec_8b0a_acde48001122row0_col3 {\n",
       "            background-color:  #fde725;\n",
       "            color:  #000000;\n",
       "        }    #T_46539230_be5b_11ec_8b0a_acde48001122row0_col4 {\n",
       "            background-color:  #fde725;\n",
       "            color:  #000000;\n",
       "        }    #T_46539230_be5b_11ec_8b0a_acde48001122row1_col0 {\n",
       "            background-color:  #228d8d;\n",
       "            color:  #000000;\n",
       "        }    #T_46539230_be5b_11ec_8b0a_acde48001122row1_col1 {\n",
       "            background-color:  #440154;\n",
       "            color:  #f1f1f1;\n",
       "        }    #T_46539230_be5b_11ec_8b0a_acde48001122row1_col2 {\n",
       "            background-color:  #440154;\n",
       "            color:  #f1f1f1;\n",
       "        }    #T_46539230_be5b_11ec_8b0a_acde48001122row1_col3 {\n",
       "            background-color:  #440154;\n",
       "            color:  #f1f1f1;\n",
       "        }    #T_46539230_be5b_11ec_8b0a_acde48001122row1_col4 {\n",
       "            background-color:  #40bd72;\n",
       "            color:  #000000;\n",
       "        }    #T_46539230_be5b_11ec_8b0a_acde48001122row2_col0 {\n",
       "            background-color:  #440154;\n",
       "            color:  #f1f1f1;\n",
       "        }    #T_46539230_be5b_11ec_8b0a_acde48001122row2_col1 {\n",
       "            background-color:  #440154;\n",
       "            color:  #f1f1f1;\n",
       "        }    #T_46539230_be5b_11ec_8b0a_acde48001122row2_col2 {\n",
       "            background-color:  #fde725;\n",
       "            color:  #000000;\n",
       "        }    #T_46539230_be5b_11ec_8b0a_acde48001122row2_col3 {\n",
       "            background-color:  #4ac16d;\n",
       "            color:  #000000;\n",
       "        }    #T_46539230_be5b_11ec_8b0a_acde48001122row2_col4 {\n",
       "            background-color:  #440154;\n",
       "            color:  #f1f1f1;\n",
       "        }</style><table id=\"T_46539230_be5b_11ec_8b0a_acde48001122\" ><thead>    <tr>        <th class=\"blank level0\" ></th>        <th class=\"col_heading level0 col0\" >10</th>        <th class=\"col_heading level0 col1\" >15</th>        <th class=\"col_heading level0 col2\" >20</th>        <th class=\"col_heading level0 col3\" >30</th>        <th class=\"col_heading level0 col4\" >50</th>    </tr></thead><tbody>\n",
       "                <tr>\n",
       "                        <th id=\"T_46539230_be5b_11ec_8b0a_acde48001122level0_row0\" class=\"row_heading level0 row0\" >3</th>\n",
       "                        <td id=\"T_46539230_be5b_11ec_8b0a_acde48001122row0_col0\" class=\"data row0 col0\" >1.610000</td>\n",
       "                        <td id=\"T_46539230_be5b_11ec_8b0a_acde48001122row0_col1\" class=\"data row0 col1\" >1.360000</td>\n",
       "                        <td id=\"T_46539230_be5b_11ec_8b0a_acde48001122row0_col2\" class=\"data row0 col2\" >1.240000</td>\n",
       "                        <td id=\"T_46539230_be5b_11ec_8b0a_acde48001122row0_col3\" class=\"data row0 col3\" >1.470000</td>\n",
       "                        <td id=\"T_46539230_be5b_11ec_8b0a_acde48001122row0_col4\" class=\"data row0 col4\" >1.570000</td>\n",
       "            </tr>\n",
       "            <tr>\n",
       "                        <th id=\"T_46539230_be5b_11ec_8b0a_acde48001122level0_row1\" class=\"row_heading level0 row1\" >5</th>\n",
       "                        <td id=\"T_46539230_be5b_11ec_8b0a_acde48001122row1_col0\" class=\"data row1 col0\" >1.430000</td>\n",
       "                        <td id=\"T_46539230_be5b_11ec_8b0a_acde48001122row1_col1\" class=\"data row1 col1\" >1.150000</td>\n",
       "                        <td id=\"T_46539230_be5b_11ec_8b0a_acde48001122row1_col2\" class=\"data row1 col2\" >1.230000</td>\n",
       "                        <td id=\"T_46539230_be5b_11ec_8b0a_acde48001122row1_col3\" class=\"data row1 col3\" >1.400000</td>\n",
       "                        <td id=\"T_46539230_be5b_11ec_8b0a_acde48001122row1_col4\" class=\"data row1 col4\" >1.490000</td>\n",
       "            </tr>\n",
       "            <tr>\n",
       "                        <th id=\"T_46539230_be5b_11ec_8b0a_acde48001122level0_row2\" class=\"row_heading level0 row2\" >7</th>\n",
       "                        <td id=\"T_46539230_be5b_11ec_8b0a_acde48001122row2_col0\" class=\"data row2 col0\" >1.260000</td>\n",
       "                        <td id=\"T_46539230_be5b_11ec_8b0a_acde48001122row2_col1\" class=\"data row2 col1\" >1.150000</td>\n",
       "                        <td id=\"T_46539230_be5b_11ec_8b0a_acde48001122row2_col2\" class=\"data row2 col2\" >1.370000</td>\n",
       "                        <td id=\"T_46539230_be5b_11ec_8b0a_acde48001122row2_col3\" class=\"data row2 col3\" >1.450000</td>\n",
       "                        <td id=\"T_46539230_be5b_11ec_8b0a_acde48001122row2_col4\" class=\"data row2 col4\" >1.310000</td>\n",
       "            </tr>\n",
       "    </tbody></table>"
      ],
      "text/plain": [
       "<pandas.io.formats.style.Styler at 0x7fb2df65d950>"
      ]
     },
     "execution_count": 10,
     "metadata": {},
     "output_type": "execute_result"
    }
   ],
   "source": [
    "result1819 = strategy('2015-01-01', '2019-12-31')\n",
    "heatmap(result1819)"
   ]
  },
  {
   "cell_type": "code",
   "execution_count": 11,
   "metadata": {},
   "outputs": [
    {
     "name": "stdout",
     "output_type": "stream",
     "text": [
      "[*********************100%***********************]  1 of 1 completed\n"
     ]
    },
    {
     "data": {
      "text/html": [
       "<style  type=\"text/css\" >\n",
       "    #T_46f5f52a_be5b_11ec_8b0a_acde48001122row0_col0 {\n",
       "            background-color:  #440154;\n",
       "            color:  #f1f1f1;\n",
       "        }    #T_46f5f52a_be5b_11ec_8b0a_acde48001122row0_col1 {\n",
       "            background-color:  #277f8e;\n",
       "            color:  #000000;\n",
       "        }    #T_46f5f52a_be5b_11ec_8b0a_acde48001122row0_col2 {\n",
       "            background-color:  #440154;\n",
       "            color:  #f1f1f1;\n",
       "        }    #T_46f5f52a_be5b_11ec_8b0a_acde48001122row0_col3 {\n",
       "            background-color:  #fde725;\n",
       "            color:  #000000;\n",
       "        }    #T_46f5f52a_be5b_11ec_8b0a_acde48001122row0_col4 {\n",
       "            background-color:  #440154;\n",
       "            color:  #f1f1f1;\n",
       "        }    #T_46f5f52a_be5b_11ec_8b0a_acde48001122row1_col0 {\n",
       "            background-color:  #472d7b;\n",
       "            color:  #f1f1f1;\n",
       "        }    #T_46f5f52a_be5b_11ec_8b0a_acde48001122row1_col1 {\n",
       "            background-color:  #440154;\n",
       "            color:  #f1f1f1;\n",
       "        }    #T_46f5f52a_be5b_11ec_8b0a_acde48001122row1_col2 {\n",
       "            background-color:  #fde725;\n",
       "            color:  #000000;\n",
       "        }    #T_46f5f52a_be5b_11ec_8b0a_acde48001122row1_col3 {\n",
       "            background-color:  #481a6c;\n",
       "            color:  #f1f1f1;\n",
       "        }    #T_46f5f52a_be5b_11ec_8b0a_acde48001122row1_col4 {\n",
       "            background-color:  #fde725;\n",
       "            color:  #000000;\n",
       "        }    #T_46f5f52a_be5b_11ec_8b0a_acde48001122row2_col0 {\n",
       "            background-color:  #fde725;\n",
       "            color:  #000000;\n",
       "        }    #T_46f5f52a_be5b_11ec_8b0a_acde48001122row2_col1 {\n",
       "            background-color:  #fde725;\n",
       "            color:  #000000;\n",
       "        }    #T_46f5f52a_be5b_11ec_8b0a_acde48001122row2_col2 {\n",
       "            background-color:  #bddf26;\n",
       "            color:  #000000;\n",
       "        }    #T_46f5f52a_be5b_11ec_8b0a_acde48001122row2_col3 {\n",
       "            background-color:  #440154;\n",
       "            color:  #f1f1f1;\n",
       "        }    #T_46f5f52a_be5b_11ec_8b0a_acde48001122row2_col4 {\n",
       "            background-color:  #2c728e;\n",
       "            color:  #f1f1f1;\n",
       "        }</style><table id=\"T_46f5f52a_be5b_11ec_8b0a_acde48001122\" ><thead>    <tr>        <th class=\"blank level0\" ></th>        <th class=\"col_heading level0 col0\" >10</th>        <th class=\"col_heading level0 col1\" >15</th>        <th class=\"col_heading level0 col2\" >20</th>        <th class=\"col_heading level0 col3\" >30</th>        <th class=\"col_heading level0 col4\" >50</th>    </tr></thead><tbody>\n",
       "                <tr>\n",
       "                        <th id=\"T_46f5f52a_be5b_11ec_8b0a_acde48001122level0_row0\" class=\"row_heading level0 row0\" >3</th>\n",
       "                        <td id=\"T_46f5f52a_be5b_11ec_8b0a_acde48001122row0_col0\" class=\"data row0 col0\" >1.460000</td>\n",
       "                        <td id=\"T_46f5f52a_be5b_11ec_8b0a_acde48001122row0_col1\" class=\"data row0 col1\" >1.550000</td>\n",
       "                        <td id=\"T_46f5f52a_be5b_11ec_8b0a_acde48001122row0_col2\" class=\"data row0 col2\" >1.590000</td>\n",
       "                        <td id=\"T_46f5f52a_be5b_11ec_8b0a_acde48001122row0_col3\" class=\"data row0 col3\" >1.490000</td>\n",
       "                        <td id=\"T_46f5f52a_be5b_11ec_8b0a_acde48001122row0_col4\" class=\"data row0 col4\" >1.410000</td>\n",
       "            </tr>\n",
       "            <tr>\n",
       "                        <th id=\"T_46f5f52a_be5b_11ec_8b0a_acde48001122level0_row1\" class=\"row_heading level0 row1\" >5</th>\n",
       "                        <td id=\"T_46f5f52a_be5b_11ec_8b0a_acde48001122row1_col0\" class=\"data row1 col0\" >1.490000</td>\n",
       "                        <td id=\"T_46f5f52a_be5b_11ec_8b0a_acde48001122row1_col1\" class=\"data row1 col1\" >1.520000</td>\n",
       "                        <td id=\"T_46f5f52a_be5b_11ec_8b0a_acde48001122row1_col2\" class=\"data row1 col2\" >1.690000</td>\n",
       "                        <td id=\"T_46f5f52a_be5b_11ec_8b0a_acde48001122row1_col3\" class=\"data row1 col3\" >1.350000</td>\n",
       "                        <td id=\"T_46f5f52a_be5b_11ec_8b0a_acde48001122row1_col4\" class=\"data row1 col4\" >1.490000</td>\n",
       "            </tr>\n",
       "            <tr>\n",
       "                        <th id=\"T_46f5f52a_be5b_11ec_8b0a_acde48001122level0_row2\" class=\"row_heading level0 row2\" >7</th>\n",
       "                        <td id=\"T_46f5f52a_be5b_11ec_8b0a_acde48001122row2_col0\" class=\"data row2 col0\" >1.700000</td>\n",
       "                        <td id=\"T_46f5f52a_be5b_11ec_8b0a_acde48001122row2_col1\" class=\"data row2 col1\" >1.590000</td>\n",
       "                        <td id=\"T_46f5f52a_be5b_11ec_8b0a_acde48001122row2_col2\" class=\"data row2 col2\" >1.680000</td>\n",
       "                        <td id=\"T_46f5f52a_be5b_11ec_8b0a_acde48001122row2_col3\" class=\"data row2 col3\" >1.340000</td>\n",
       "                        <td id=\"T_46f5f52a_be5b_11ec_8b0a_acde48001122row2_col4\" class=\"data row2 col4\" >1.440000</td>\n",
       "            </tr>\n",
       "    </tbody></table>"
      ],
      "text/plain": [
       "<pandas.io.formats.style.Styler at 0x7fb2df57ce50>"
      ]
     },
     "execution_count": 11,
     "metadata": {},
     "output_type": "execute_result"
    }
   ],
   "source": [
    "result1819 = strategy('2020-01-01', '2021-12-31')\n",
    "heatmap(result1819)"
   ]
  },
  {
   "cell_type": "code",
   "execution_count": null,
   "metadata": {},
   "outputs": [],
   "source": []
  }
 ],
 "metadata": {
  "interpreter": {
   "hash": "40d3a090f54c6569ab1632332b64b2c03c39dcf918b08424e98f38b5ae0af88f"
  },
  "kernelspec": {
   "display_name": "Python 3.7.6 ('base')",
   "language": "python",
   "name": "python3"
  },
  "language_info": {
   "codemirror_mode": {
    "name": "ipython",
    "version": 3
   },
   "file_extension": ".py",
   "mimetype": "text/x-python",
   "name": "python",
   "nbconvert_exporter": "python",
   "pygments_lexer": "ipython3",
   "version": "3.7.6"
  },
  "orig_nbformat": 4
 },
 "nbformat": 4,
 "nbformat_minor": 2
}
